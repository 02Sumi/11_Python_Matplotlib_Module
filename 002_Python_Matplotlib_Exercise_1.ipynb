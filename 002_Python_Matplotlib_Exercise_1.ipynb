{
 "cells": [
  {
   "cell_type": "markdown",
   "metadata": {},
   "source": [
    "<small><small><i>\n",
    "All the IPython Notebooks in this lecture series by Dr. Milan Parmar are available @ **[GitHub](https://github.com/milaan9/11_Python_Matplotlib_Module)**\n",
    "</i></small></small>"
   ]
  },
  {
   "cell_type": "markdown",
   "metadata": {},
   "source": [
    "# Python Matplotlib\n",
    "\n",
    "**[Matplotlib](https://matplotlib.org/)** is a Python 2D plotting library that produces high-quality charts and figures, which helps us visualize extensive data to understand better. Pandas is a handy and useful data-structure tool for analyzing large and complex data."
   ]
  },
  {
   "cell_type": "markdown",
   "metadata": {},
   "source": [
    "### Load Necessary Libraries"
   ]
  },
  {
   "cell_type": "code",
   "execution_count": null,
   "metadata": {
    "ExecuteTime": {
     "end_time": "2021-06-15T04:45:54.055427Z",
     "start_time": "2021-06-15T04:45:53.000750Z"
    }
   },
   "outputs": [],
   "source": [
    "import matplotlib.pyplot as plt\n",
    "import numpy as np\n",
    "import pandas as pd"
   ]
  },
  {
   "cell_type": "markdown",
   "metadata": {},
   "source": [
    "### Basic Graph"
   ]
  },
  {
   "cell_type": "code",
   "execution_count": null,
   "metadata": {
    "ExecuteTime": {
     "end_time": "2021-06-15T04:46:01.841998Z",
     "start_time": "2021-06-15T04:46:00.032933Z"
    }
   },
   "outputs": [],
   "source": [
    "x = [0,1,2,3,4]\n",
    "y = [0,2,4,6,8]\n",
    "\n",
    "# Resize your Graph (dpi specifies pixels per inch. When saving probably should use 300 if possible)\n",
    "plt.figure(figsize=(8,5), dpi=100)\n",
    "\n",
    "# Line 1\n",
    "\n",
    "# Keyword Argument Notation\n",
    "#plt.plot(x,y, label='2x', color='red', linewidth=2, marker='.', linestyle='--', markersize=10, markeredgecolor='blue')\n",
    "\n",
    "# Shorthand notation\n",
    "# fmt = '[color][marker][line]'\n",
    "plt.plot(x,y, 'b^--', label='2x')\n",
    "\n",
    "## Line 2\n",
    "\n",
    "# select interval we want to plot points at\n",
    "x2 = np.arange(0,4.5,0.5)\n",
    "\n",
    "# Plot part of the graph as line\n",
    "plt.plot(x2[:6], x2[:6]**2, 'r', label='X^2')\n",
    "\n",
    "# Plot remainder of graph as a dot\n",
    "plt.plot(x2[5:], x2[5:]**2, 'r--')\n",
    "\n",
    "# Add a title (specify font parameters with fontdict)\n",
    "plt.title('Our First Graph!', fontdict={'fontname': 'Comic Sans MS', 'fontsize': 20})\n",
    "\n",
    "# X and Y labels\n",
    "plt.xlabel('X Axis')\n",
    "plt.ylabel('Y Axis')\n",
    "\n",
    "# X, Y axis Tickmarks (scale of your graph)\n",
    "plt.xticks([0,1,2,3,4,])\n",
    "#plt.yticks([0,2,4,6,8,10])\n",
    "\n",
    "# Add a legend\n",
    "plt.legend()\n",
    "\n",
    "# Save figure (dpi 300 is good when saving so graph has high resolution)\n",
    "plt.savefig('mygraph.png', dpi=300)\n",
    "\n",
    "# Show plot\n",
    "plt.show()"
   ]
  },
  {
   "cell_type": "markdown",
   "metadata": {},
   "source": [
    "### Bar Chart"
   ]
  },
  {
   "cell_type": "code",
   "execution_count": null,
   "metadata": {
    "ExecuteTime": {
     "end_time": "2021-06-15T04:46:08.425940Z",
     "start_time": "2021-06-15T04:46:07.912277Z"
    }
   },
   "outputs": [],
   "source": [
    "labels = ['A', 'B', 'C']\n",
    "values = [1,4,2]\n",
    "\n",
    "plt.figure(figsize=(5,3), dpi=100)\n",
    "\n",
    "bars = plt.bar(labels, values)\n",
    "\n",
    "patterns = ['/', 'O', '*']\n",
    "for bar in bars:\n",
    "    bar.set_hatch(patterns.pop(0))\n",
    "\n",
    "plt.savefig('barchart.png', dpi=300)\n",
    "\n",
    "plt.show()"
   ]
  },
  {
   "cell_type": "markdown",
   "metadata": {},
   "source": [
    "# Real World Examples\n",
    "Download data from my Github (**[gas_prices.csv](https://github.com/milaan9/11_Python_Matplotlib_Module/blob/main/gas_prices.csv)** & **[fifa_data.csv](https://github.com/milaan9/11_Python_Matplotlib_Module/blob/main/fifa_data.csv)**)"
   ]
  },
  {
   "cell_type": "markdown",
   "metadata": {},
   "source": [
    "### Line Graph"
   ]
  },
  {
   "cell_type": "code",
   "execution_count": null,
   "metadata": {
    "ExecuteTime": {
     "end_time": "2021-06-15T04:46:12.874648Z",
     "start_time": "2021-06-15T04:46:11.456689Z"
    }
   },
   "outputs": [],
   "source": [
    "gas = pd.read_csv('gas_prices.csv')\n",
    "\n",
    "plt.figure(figsize=(8,5))\n",
    "\n",
    "plt.title('Gas Prices over Time (in USD)', fontdict={'fontweight':'bold', 'fontsize': 18})\n",
    "\n",
    "plt.plot(gas.Year, gas.USA, 'b.-', label='United States')\n",
    "plt.plot(gas.Year, gas.Canada, 'r.-')\n",
    "plt.plot(gas.Year, gas['South Korea'], 'g.-')\n",
    "plt.plot(gas.Year, gas.Australia, 'y.-')\n",
    "\n",
    "# Another Way to plot many values!\n",
    "# countries_to_look_at = ['Australia', 'USA', 'Canada', 'South Korea']\n",
    "# for country in gas:\n",
    "#     if country in countries_to_look_at:\n",
    "#         plt.plot(gas.Year, gas[country], marker='.')\n",
    "\n",
    "plt.xticks(gas.Year[::3].tolist()+[2011])\n",
    "\n",
    "plt.xlabel('Year')\n",
    "plt.ylabel('US Dollars')\n",
    "\n",
    "plt.legend()\n",
    "\n",
    "plt.savefig('Gas_price_figure.png', dpi=300)\n",
    "\n",
    "plt.show()"
   ]
  },
  {
   "cell_type": "markdown",
   "metadata": {},
   "source": [
    "### Load Fifa Data"
   ]
  },
  {
   "cell_type": "code",
   "execution_count": null,
   "metadata": {
    "ExecuteTime": {
     "end_time": "2021-06-15T04:46:15.387323Z",
     "start_time": "2021-06-15T04:46:14.504521Z"
    }
   },
   "outputs": [],
   "source": [
    "fifa = pd.read_csv('fifa_data.csv')\n",
    "\n",
    "fifa.head(5)"
   ]
  },
  {
   "cell_type": "markdown",
   "metadata": {},
   "source": [
    "### Histogram"
   ]
  },
  {
   "cell_type": "code",
   "execution_count": null,
   "metadata": {
    "ExecuteTime": {
     "end_time": "2021-06-15T04:46:23.188545Z",
     "start_time": "2021-06-15T04:46:22.424880Z"
    }
   },
   "outputs": [],
   "source": [
    "bins = [40,50,60,70,80,90,100]\n",
    "\n",
    "plt.figure(figsize=(8,5))\n",
    "\n",
    "plt.hist(fifa.Overall, bins=bins, color='#abcdef')\n",
    "\n",
    "plt.xticks(bins)\n",
    "\n",
    "plt.ylabel('Number of Players')\n",
    "plt.xlabel('Skill Level')\n",
    "plt.title('Distribution of Player Skills in FIFA 2018')\n",
    "\n",
    "plt.savefig('histogram.png', dpi=300)\n",
    "\n",
    "plt.show()"
   ]
  },
  {
   "cell_type": "markdown",
   "metadata": {},
   "source": [
    "### Pie Chart"
   ]
  },
  {
   "cell_type": "code",
   "execution_count": null,
   "metadata": {
    "ExecuteTime": {
     "end_time": "2021-06-15T04:46:26.107472Z",
     "start_time": "2021-06-15T04:46:25.384824Z"
    }
   },
   "outputs": [],
   "source": [
    "left = fifa.loc[fifa['Preferred Foot'] == 'Left'].count()[0]\n",
    "right = fifa.loc[fifa['Preferred Foot'] == 'Right'].count()[0]\n",
    "\n",
    "plt.figure(figsize=(8,5))\n",
    "\n",
    "labels = ['Left', 'Right']\n",
    "colors = ['#abcdef', '#aabbcc']\n",
    "\n",
    "plt.pie([left, right], labels = labels, colors=colors, autopct='%.2f %%')\n",
    "\n",
    "plt.title('Foot Preference of FIFA Players')\n",
    "\n",
    "plt.show()"
   ]
  },
  {
   "cell_type": "markdown",
   "metadata": {},
   "source": [
    "### Pie Chart #2"
   ]
  },
  {
   "cell_type": "code",
   "execution_count": null,
   "metadata": {
    "ExecuteTime": {
     "end_time": "2021-06-15T04:46:28.323768Z",
     "start_time": "2021-06-15T04:46:27.648973Z"
    }
   },
   "outputs": [],
   "source": [
    "plt.figure(figsize=(8,5), dpi=100)\n",
    "\n",
    "plt.style.use('ggplot')\n",
    "\n",
    "fifa.Weight = [int(x.strip('lbs')) if type(x)==str else x for x in fifa.Weight]\n",
    "\n",
    "light = fifa.loc[fifa.Weight < 125].count()[0]\n",
    "light_medium = fifa[(fifa.Weight >= 125) & (fifa.Weight < 150)].count()[0]\n",
    "medium = fifa[(fifa.Weight >= 150) & (fifa.Weight < 175)].count()[0]\n",
    "medium_heavy = fifa[(fifa.Weight >= 175) & (fifa.Weight < 200)].count()[0]\n",
    "heavy = fifa[fifa.Weight >= 200].count()[0]\n",
    "\n",
    "weights = [light,light_medium, medium, medium_heavy, heavy]\n",
    "label = ['under 125', '125-150', '150-175', '175-200', 'over 200']\n",
    "explode = (.4,.2,0,0,.4)\n",
    "\n",
    "plt.title('Weight of Professional Soccer Players (lbs)')\n",
    "\n",
    "plt.pie(weights, labels=label, explode=explode, pctdistance=0.8,autopct='%.2f %%')\n",
    "plt.show()"
   ]
  },
  {
   "cell_type": "markdown",
   "metadata": {},
   "source": [
    "### Box and Whiskers Chart"
   ]
  },
  {
   "cell_type": "code",
   "execution_count": null,
   "metadata": {
    "ExecuteTime": {
     "end_time": "2021-06-15T04:46:31.318867Z",
     "start_time": "2021-06-15T04:46:30.937039Z"
    }
   },
   "outputs": [],
   "source": [
    "plt.figure(figsize=(5,8), dpi=100)\n",
    "\n",
    "plt.style.use('default')\n",
    "\n",
    "barcelona = fifa.loc[fifa.Club == \"FC Barcelona\"]['Overall']\n",
    "madrid = fifa.loc[fifa.Club == \"Real Madrid\"]['Overall']\n",
    "revs = fifa.loc[fifa.Club == \"New England Revolution\"]['Overall']\n",
    "\n",
    "#bp = plt.boxplot([barcelona, madrid, revs], labels=['a','b','c'], boxprops=dict(facecolor='red'))\n",
    "bp = plt.boxplot([barcelona, madrid, revs], labels=['FC Barcelona','Real Madrid','NE Revolution'], patch_artist=True, medianprops={'linewidth': 2})\n",
    "\n",
    "plt.title('Professional Soccer Team Comparison')\n",
    "plt.ylabel('FIFA Overall Rating')\n",
    "\n",
    "for box in bp['boxes']:\n",
    "    # change outline color\n",
    "    box.set(color='#4286f4', linewidth=2)\n",
    "    # change fill color\n",
    "    box.set(facecolor = '#e0e0e0' )\n",
    "    # change hatch\n",
    "    #box.set(hatch = '/')\n",
    "    \n",
    "plt.show()"
   ]
  },
  {
   "cell_type": "code",
   "execution_count": null,
   "metadata": {},
   "outputs": [],
   "source": []
  }
 ],
 "metadata": {
  "hide_input": false,
  "kernelspec": {
   "display_name": "Python 3",
   "language": "python",
   "name": "python3"
  },
  "language_info": {
   "codemirror_mode": {
    "name": "ipython",
    "version": 3
   },
   "file_extension": ".py",
   "mimetype": "text/x-python",
   "name": "python",
   "nbconvert_exporter": "python",
   "pygments_lexer": "ipython3",
   "version": "3.8.8"
  },
  "toc": {
   "base_numbering": 1,
   "nav_menu": {},
   "number_sections": true,
   "sideBar": true,
   "skip_h1_title": false,
   "title_cell": "Table of Contents",
   "title_sidebar": "Contents",
   "toc_cell": false,
   "toc_position": {},
   "toc_section_display": true,
   "toc_window_display": false
  },
  "varInspector": {
   "cols": {
    "lenName": 16,
    "lenType": 16,
    "lenVar": 40
   },
   "kernels_config": {
    "python": {
     "delete_cmd_postfix": "",
     "delete_cmd_prefix": "del ",
     "library": "var_list.py",
     "varRefreshCmd": "print(var_dic_list())"
    },
    "r": {
     "delete_cmd_postfix": ") ",
     "delete_cmd_prefix": "rm(",
     "library": "var_list.r",
     "varRefreshCmd": "cat(var_dic_list()) "
    }
   },
   "types_to_exclude": [
    "module",
    "function",
    "builtin_function_or_method",
    "instance",
    "_Feature"
   ],
   "window_display": false
  }
 },
 "nbformat": 4,
 "nbformat_minor": 2
}
